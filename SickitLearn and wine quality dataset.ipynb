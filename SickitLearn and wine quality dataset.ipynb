{
  "nbformat": 4,
  "nbformat_minor": 0,
  "metadata": {
    "colab": {
      "name": "SickitLearn.ipynb",
      "provenance": []
    },
    "kernelspec": {
      "name": "python3",
      "display_name": "Python 3"
    }
  },
  "cells": [
    {
      "cell_type": "code",
      "metadata": {
        "id": "kARtB6442L1v",
        "colab": {
          "base_uri": "https://localhost:8080/",
          "height": 75
        },
        "outputId": "462d3ed4-de1e-4758-cf44-b46c83a1f97f"
      },
      "source": [
        "#import os\n",
        "import pandas as pd\n",
        "import numpy as np\n",
        "import seaborn as sns\n",
        "import matplotlib.pyplot as plt\n",
        "from sklearn.ensemble import RandomForestClassifier\n",
        "from sklearn.svm import SVC\n",
        "from sklearn import svm\n",
        "# from sklearn.neural_network import MLPClassifier\n",
        "from sklearn.metrics import confusion_matrix, classification_report\n",
        "from sklearn.preprocessing import LabelEncoder, StandardScaler\n",
        "from sklearn.model_selection import train_test_split"
      ],
      "execution_count": null,
      "outputs": [
        {
          "output_type": "stream",
          "text": [
            "/usr/local/lib/python3.6/dist-packages/statsmodels/tools/_testing.py:19: FutureWarning: pandas.util.testing is deprecated. Use the functions in the public API at pandas.testing instead.\n",
            "  import pandas.util.testing as tm\n"
          ],
          "name": "stderr"
        }
      ]
    },
    {
      "cell_type": "markdown",
      "metadata": {
        "id": "sHlYYq7CEm3B"
      },
      "source": [
        "### downloading the data set from kaggle into drive"
      ]
    },
    {
      "cell_type": "code",
      "metadata": {
        "id": "JW-Vw1y22V_U"
      },
      "source": [
        "# ignore this section I used it because i was working on colab not jupyter"
      ],
      "execution_count": null,
      "outputs": []
    },
    {
      "cell_type": "code",
      "metadata": {
        "id": "mAFam46M2iLz"
      },
      "source": [
        "#it is done only once and I already did it so we won't be needing this section again\n",
        "#os.environ['KAGGLE_CONFIG_DIR'] = '/content/drive/My Drive/Kaggle/red_wine_quality'"
      ],
      "execution_count": null,
      "outputs": []
    },
    {
      "cell_type": "code",
      "metadata": {
        "id": "TifB0xaSEK5R"
      },
      "source": [
        "# cd /content/drive/My Drive/Kaggle/red_wine_quality"
      ],
      "execution_count": null,
      "outputs": []
    },
    {
      "cell_type": "code",
      "metadata": {
        "id": "z-PVyR_XERvx"
      },
      "source": [
        "# !kaggle datasets download -d uciml/red-wine-quality-cortez-et-al-2009"
      ],
      "execution_count": null,
      "outputs": []
    },
    {
      "cell_type": "code",
      "metadata": {
        "id": "CmzMm4hhEjFx"
      },
      "source": [
        "# !unzip \\*.zip  && rm *.zip"
      ],
      "execution_count": null,
      "outputs": []
    },
    {
      "cell_type": "markdown",
      "metadata": {
        "id": "6aD-EpAnEzrm"
      },
      "source": [
        "### data preprocessing"
      ]
    },
    {
      "cell_type": "code",
      "metadata": {
        "id": "Eov3qBowE4_5"
      },
      "source": [
        "df = pd.read_csv('/content/drive/My Drive/Kaggle/red_wine_quality/winequality-red.csv')"
      ],
      "execution_count": null,
      "outputs": []
    },
    {
      "cell_type": "code",
      "metadata": {
        "id": "rHvFjD5oFEIm",
        "colab": {
          "base_uri": "https://localhost:8080/",
          "height": 224
        },
        "outputId": "ed762f9c-1a71-4a97-db1a-bac69b05b9d4"
      },
      "source": [
        "df.head()"
      ],
      "execution_count": null,
      "outputs": [
        {
          "output_type": "execute_result",
          "data": {
            "text/html": [
              "<div>\n",
              "<style scoped>\n",
              "    .dataframe tbody tr th:only-of-type {\n",
              "        vertical-align: middle;\n",
              "    }\n",
              "\n",
              "    .dataframe tbody tr th {\n",
              "        vertical-align: top;\n",
              "    }\n",
              "\n",
              "    .dataframe thead th {\n",
              "        text-align: right;\n",
              "    }\n",
              "</style>\n",
              "<table border=\"1\" class=\"dataframe\">\n",
              "  <thead>\n",
              "    <tr style=\"text-align: right;\">\n",
              "      <th></th>\n",
              "      <th>fixed acidity</th>\n",
              "      <th>volatile acidity</th>\n",
              "      <th>citric acid</th>\n",
              "      <th>residual sugar</th>\n",
              "      <th>chlorides</th>\n",
              "      <th>free sulfur dioxide</th>\n",
              "      <th>total sulfur dioxide</th>\n",
              "      <th>density</th>\n",
              "      <th>pH</th>\n",
              "      <th>sulphates</th>\n",
              "      <th>alcohol</th>\n",
              "      <th>quality</th>\n",
              "    </tr>\n",
              "  </thead>\n",
              "  <tbody>\n",
              "    <tr>\n",
              "      <th>0</th>\n",
              "      <td>7.4</td>\n",
              "      <td>0.70</td>\n",
              "      <td>0.00</td>\n",
              "      <td>1.9</td>\n",
              "      <td>0.076</td>\n",
              "      <td>11.0</td>\n",
              "      <td>34.0</td>\n",
              "      <td>0.9978</td>\n",
              "      <td>3.51</td>\n",
              "      <td>0.56</td>\n",
              "      <td>9.4</td>\n",
              "      <td>5</td>\n",
              "    </tr>\n",
              "    <tr>\n",
              "      <th>1</th>\n",
              "      <td>7.8</td>\n",
              "      <td>0.88</td>\n",
              "      <td>0.00</td>\n",
              "      <td>2.6</td>\n",
              "      <td>0.098</td>\n",
              "      <td>25.0</td>\n",
              "      <td>67.0</td>\n",
              "      <td>0.9968</td>\n",
              "      <td>3.20</td>\n",
              "      <td>0.68</td>\n",
              "      <td>9.8</td>\n",
              "      <td>5</td>\n",
              "    </tr>\n",
              "    <tr>\n",
              "      <th>2</th>\n",
              "      <td>7.8</td>\n",
              "      <td>0.76</td>\n",
              "      <td>0.04</td>\n",
              "      <td>2.3</td>\n",
              "      <td>0.092</td>\n",
              "      <td>15.0</td>\n",
              "      <td>54.0</td>\n",
              "      <td>0.9970</td>\n",
              "      <td>3.26</td>\n",
              "      <td>0.65</td>\n",
              "      <td>9.8</td>\n",
              "      <td>5</td>\n",
              "    </tr>\n",
              "    <tr>\n",
              "      <th>3</th>\n",
              "      <td>11.2</td>\n",
              "      <td>0.28</td>\n",
              "      <td>0.56</td>\n",
              "      <td>1.9</td>\n",
              "      <td>0.075</td>\n",
              "      <td>17.0</td>\n",
              "      <td>60.0</td>\n",
              "      <td>0.9980</td>\n",
              "      <td>3.16</td>\n",
              "      <td>0.58</td>\n",
              "      <td>9.8</td>\n",
              "      <td>6</td>\n",
              "    </tr>\n",
              "    <tr>\n",
              "      <th>4</th>\n",
              "      <td>7.4</td>\n",
              "      <td>0.70</td>\n",
              "      <td>0.00</td>\n",
              "      <td>1.9</td>\n",
              "      <td>0.076</td>\n",
              "      <td>11.0</td>\n",
              "      <td>34.0</td>\n",
              "      <td>0.9978</td>\n",
              "      <td>3.51</td>\n",
              "      <td>0.56</td>\n",
              "      <td>9.4</td>\n",
              "      <td>5</td>\n",
              "    </tr>\n",
              "  </tbody>\n",
              "</table>\n",
              "</div>"
            ],
            "text/plain": [
              "   fixed acidity  volatile acidity  citric acid  ...  sulphates  alcohol  quality\n",
              "0            7.4              0.70         0.00  ...       0.56      9.4        5\n",
              "1            7.8              0.88         0.00  ...       0.68      9.8        5\n",
              "2            7.8              0.76         0.04  ...       0.65      9.8        5\n",
              "3           11.2              0.28         0.56  ...       0.58      9.8        6\n",
              "4            7.4              0.70         0.00  ...       0.56      9.4        5\n",
              "\n",
              "[5 rows x 12 columns]"
            ]
          },
          "metadata": {
            "tags": []
          },
          "execution_count": 8
        }
      ]
    },
    {
      "cell_type": "code",
      "metadata": {
        "id": "DaxhKZ2Rhca9"
      },
      "source": [
        "#if we're dropping a column for some reason\n",
        "#df.drop(df.columns[0], 1)"
      ],
      "execution_count": null,
      "outputs": []
    },
    {
      "cell_type": "code",
      "metadata": {
        "id": "62yHZpboZqfP",
        "colab": {
          "base_uri": "https://localhost:8080/",
          "height": 36
        },
        "outputId": "e475e3d0-1445-4d54-86ec-51b336bd94c6"
      },
      "source": [
        "df['quality'].nunique()"
      ],
      "execution_count": null,
      "outputs": [
        {
          "output_type": "execute_result",
          "data": {
            "text/plain": [
              "6"
            ]
          },
          "metadata": {
            "tags": []
          },
          "execution_count": 12
        }
      ]
    },
    {
      "cell_type": "code",
      "metadata": {
        "id": "PwPxwRUTl5l0",
        "colab": {
          "base_uri": "https://localhost:8080/",
          "height": 375
        },
        "outputId": "474456bd-21b6-477e-c3ed-336433a4344d"
      },
      "source": [
        "inf = df.info()\n",
        "inf"
      ],
      "execution_count": null,
      "outputs": [
        {
          "output_type": "stream",
          "text": [
            "<class 'pandas.core.frame.DataFrame'>\n",
            "RangeIndex: 1599 entries, 0 to 1598\n",
            "Data columns (total 12 columns):\n",
            " #   Column                Non-Null Count  Dtype  \n",
            "---  ------                --------------  -----  \n",
            " 0   fixed acidity         1599 non-null   float64\n",
            " 1   volatile acidity      1599 non-null   float64\n",
            " 2   citric acid           1599 non-null   float64\n",
            " 3   residual sugar        1599 non-null   float64\n",
            " 4   chlorides             1599 non-null   float64\n",
            " 5   free sulfur dioxide   1599 non-null   float64\n",
            " 6   total sulfur dioxide  1599 non-null   float64\n",
            " 7   density               1599 non-null   float64\n",
            " 8   pH                    1599 non-null   float64\n",
            " 9   sulphates             1599 non-null   float64\n",
            " 10  alcohol               1599 non-null   float64\n",
            " 11  quality               1599 non-null   int64  \n",
            "dtypes: float64(11), int64(1)\n",
            "memory usage: 150.0 KB\n"
          ],
          "name": "stdout"
        }
      ]
    },
    {
      "cell_type": "code",
      "metadata": {
        "id": "ZBCwKFy7nRbe",
        "colab": {
          "base_uri": "https://localhost:8080/",
          "height": 36
        },
        "outputId": "5a3a7c9f-9d37-4691-c56b-806eaaf23f6d"
      },
      "source": [
        "#is there any column that contains a nan/null value\n",
        "df.isna().any().any()"
      ],
      "execution_count": null,
      "outputs": [
        {
          "output_type": "execute_result",
          "data": {
            "text/plain": [
              "False"
            ]
          },
          "metadata": {
            "tags": []
          },
          "execution_count": 11
        }
      ]
    },
    {
      "cell_type": "code",
      "metadata": {
        "id": "qMjY9WkIqppi"
      },
      "source": [
        "#now we convert the quality data column from range values into catagorical data\n",
        "bins = (0,6.5,8)#here we define the borders of our catagories the first one starts at 0 and ends at 6.5 and the second 6.5-8\n",
        "group_names = ['bad', 'good']#now we give labels to our catagories\n",
        "df['quality'] = pd.cut(df['quality'], bins = bins, labels = group_names)#and voila"
      ],
      "execution_count": null,
      "outputs": []
    },
    {
      "cell_type": "code",
      "metadata": {
        "id": "5nR4-2mVqprw",
        "colab": {
          "base_uri": "https://localhost:8080/",
          "height": 55
        },
        "outputId": "9454020c-a3ba-4ec3-84b2-9144bd4bee4b"
      },
      "source": [
        "#we check to see if what we did actually works\n",
        "df['quality'].unique()#we find the unique values in the column"
      ],
      "execution_count": null,
      "outputs": [
        {
          "output_type": "execute_result",
          "data": {
            "text/plain": [
              "[bad, good]\n",
              "Categories (2, object): [bad < good]"
            ]
          },
          "metadata": {
            "tags": []
          },
          "execution_count": 13
        }
      ]
    },
    {
      "cell_type": "code",
      "metadata": {
        "id": "nvupi3LVoTJR",
        "colab": {
          "base_uri": "https://localhost:8080/",
          "height": 92
        },
        "outputId": "3194fd55-4d60-48e6-f385-eb4e5f38b6cb"
      },
      "source": [
        "#getting the numbber of the good and bad samples\n",
        "df.groupby(\"quality\").count()[\"fixed acidity\"]"
      ],
      "execution_count": null,
      "outputs": [
        {
          "output_type": "execute_result",
          "data": {
            "text/plain": [
              "quality\n",
              "bad     1382\n",
              "good     217\n",
              "Name: fixed acidity, dtype: int64"
            ]
          },
          "metadata": {
            "tags": []
          },
          "execution_count": 14
        }
      ]
    },
    {
      "cell_type": "code",
      "metadata": {
        "id": "sIBQNPSprCDW"
      },
      "source": [
        "#now we encode bad and good with numerical values(0,1)\n",
        "lable = LabelEncoder()\n",
        "\n",
        "df['quality'] = lable.fit_transform(df['quality'])"
      ],
      "execution_count": null,
      "outputs": []
    },
    {
      "cell_type": "code",
      "metadata": {
        "id": "g4du223Mrrwt",
        "colab": {
          "base_uri": "https://localhost:8080/",
          "height": 398
        },
        "outputId": "29ab1ac6-a996-4a60-d48c-3256cc9293ed"
      },
      "source": [
        "df.head(10)"
      ],
      "execution_count": null,
      "outputs": [
        {
          "output_type": "execute_result",
          "data": {
            "text/html": [
              "<div>\n",
              "<style scoped>\n",
              "    .dataframe tbody tr th:only-of-type {\n",
              "        vertical-align: middle;\n",
              "    }\n",
              "\n",
              "    .dataframe tbody tr th {\n",
              "        vertical-align: top;\n",
              "    }\n",
              "\n",
              "    .dataframe thead th {\n",
              "        text-align: right;\n",
              "    }\n",
              "</style>\n",
              "<table border=\"1\" class=\"dataframe\">\n",
              "  <thead>\n",
              "    <tr style=\"text-align: right;\">\n",
              "      <th></th>\n",
              "      <th>fixed acidity</th>\n",
              "      <th>volatile acidity</th>\n",
              "      <th>citric acid</th>\n",
              "      <th>residual sugar</th>\n",
              "      <th>chlorides</th>\n",
              "      <th>free sulfur dioxide</th>\n",
              "      <th>total sulfur dioxide</th>\n",
              "      <th>density</th>\n",
              "      <th>pH</th>\n",
              "      <th>sulphates</th>\n",
              "      <th>alcohol</th>\n",
              "      <th>quality</th>\n",
              "    </tr>\n",
              "  </thead>\n",
              "  <tbody>\n",
              "    <tr>\n",
              "      <th>0</th>\n",
              "      <td>7.4</td>\n",
              "      <td>0.70</td>\n",
              "      <td>0.00</td>\n",
              "      <td>1.9</td>\n",
              "      <td>0.076</td>\n",
              "      <td>11.0</td>\n",
              "      <td>34.0</td>\n",
              "      <td>0.9978</td>\n",
              "      <td>3.51</td>\n",
              "      <td>0.56</td>\n",
              "      <td>9.4</td>\n",
              "      <td>0</td>\n",
              "    </tr>\n",
              "    <tr>\n",
              "      <th>1</th>\n",
              "      <td>7.8</td>\n",
              "      <td>0.88</td>\n",
              "      <td>0.00</td>\n",
              "      <td>2.6</td>\n",
              "      <td>0.098</td>\n",
              "      <td>25.0</td>\n",
              "      <td>67.0</td>\n",
              "      <td>0.9968</td>\n",
              "      <td>3.20</td>\n",
              "      <td>0.68</td>\n",
              "      <td>9.8</td>\n",
              "      <td>0</td>\n",
              "    </tr>\n",
              "    <tr>\n",
              "      <th>2</th>\n",
              "      <td>7.8</td>\n",
              "      <td>0.76</td>\n",
              "      <td>0.04</td>\n",
              "      <td>2.3</td>\n",
              "      <td>0.092</td>\n",
              "      <td>15.0</td>\n",
              "      <td>54.0</td>\n",
              "      <td>0.9970</td>\n",
              "      <td>3.26</td>\n",
              "      <td>0.65</td>\n",
              "      <td>9.8</td>\n",
              "      <td>0</td>\n",
              "    </tr>\n",
              "    <tr>\n",
              "      <th>3</th>\n",
              "      <td>11.2</td>\n",
              "      <td>0.28</td>\n",
              "      <td>0.56</td>\n",
              "      <td>1.9</td>\n",
              "      <td>0.075</td>\n",
              "      <td>17.0</td>\n",
              "      <td>60.0</td>\n",
              "      <td>0.9980</td>\n",
              "      <td>3.16</td>\n",
              "      <td>0.58</td>\n",
              "      <td>9.8</td>\n",
              "      <td>0</td>\n",
              "    </tr>\n",
              "    <tr>\n",
              "      <th>4</th>\n",
              "      <td>7.4</td>\n",
              "      <td>0.70</td>\n",
              "      <td>0.00</td>\n",
              "      <td>1.9</td>\n",
              "      <td>0.076</td>\n",
              "      <td>11.0</td>\n",
              "      <td>34.0</td>\n",
              "      <td>0.9978</td>\n",
              "      <td>3.51</td>\n",
              "      <td>0.56</td>\n",
              "      <td>9.4</td>\n",
              "      <td>0</td>\n",
              "    </tr>\n",
              "    <tr>\n",
              "      <th>5</th>\n",
              "      <td>7.4</td>\n",
              "      <td>0.66</td>\n",
              "      <td>0.00</td>\n",
              "      <td>1.8</td>\n",
              "      <td>0.075</td>\n",
              "      <td>13.0</td>\n",
              "      <td>40.0</td>\n",
              "      <td>0.9978</td>\n",
              "      <td>3.51</td>\n",
              "      <td>0.56</td>\n",
              "      <td>9.4</td>\n",
              "      <td>0</td>\n",
              "    </tr>\n",
              "    <tr>\n",
              "      <th>6</th>\n",
              "      <td>7.9</td>\n",
              "      <td>0.60</td>\n",
              "      <td>0.06</td>\n",
              "      <td>1.6</td>\n",
              "      <td>0.069</td>\n",
              "      <td>15.0</td>\n",
              "      <td>59.0</td>\n",
              "      <td>0.9964</td>\n",
              "      <td>3.30</td>\n",
              "      <td>0.46</td>\n",
              "      <td>9.4</td>\n",
              "      <td>0</td>\n",
              "    </tr>\n",
              "    <tr>\n",
              "      <th>7</th>\n",
              "      <td>7.3</td>\n",
              "      <td>0.65</td>\n",
              "      <td>0.00</td>\n",
              "      <td>1.2</td>\n",
              "      <td>0.065</td>\n",
              "      <td>15.0</td>\n",
              "      <td>21.0</td>\n",
              "      <td>0.9946</td>\n",
              "      <td>3.39</td>\n",
              "      <td>0.47</td>\n",
              "      <td>10.0</td>\n",
              "      <td>1</td>\n",
              "    </tr>\n",
              "    <tr>\n",
              "      <th>8</th>\n",
              "      <td>7.8</td>\n",
              "      <td>0.58</td>\n",
              "      <td>0.02</td>\n",
              "      <td>2.0</td>\n",
              "      <td>0.073</td>\n",
              "      <td>9.0</td>\n",
              "      <td>18.0</td>\n",
              "      <td>0.9968</td>\n",
              "      <td>3.36</td>\n",
              "      <td>0.57</td>\n",
              "      <td>9.5</td>\n",
              "      <td>1</td>\n",
              "    </tr>\n",
              "    <tr>\n",
              "      <th>9</th>\n",
              "      <td>7.5</td>\n",
              "      <td>0.50</td>\n",
              "      <td>0.36</td>\n",
              "      <td>6.1</td>\n",
              "      <td>0.071</td>\n",
              "      <td>17.0</td>\n",
              "      <td>102.0</td>\n",
              "      <td>0.9978</td>\n",
              "      <td>3.35</td>\n",
              "      <td>0.80</td>\n",
              "      <td>10.5</td>\n",
              "      <td>0</td>\n",
              "    </tr>\n",
              "  </tbody>\n",
              "</table>\n",
              "</div>"
            ],
            "text/plain": [
              "   fixed acidity  volatile acidity  citric acid  ...  sulphates  alcohol  quality\n",
              "0            7.4              0.70         0.00  ...       0.56      9.4        0\n",
              "1            7.8              0.88         0.00  ...       0.68      9.8        0\n",
              "2            7.8              0.76         0.04  ...       0.65      9.8        0\n",
              "3           11.2              0.28         0.56  ...       0.58      9.8        0\n",
              "4            7.4              0.70         0.00  ...       0.56      9.4        0\n",
              "5            7.4              0.66         0.00  ...       0.56      9.4        0\n",
              "6            7.9              0.60         0.06  ...       0.46      9.4        0\n",
              "7            7.3              0.65         0.00  ...       0.47     10.0        1\n",
              "8            7.8              0.58         0.02  ...       0.57      9.5        1\n",
              "9            7.5              0.50         0.36  ...       0.80     10.5        0\n",
              "\n",
              "[10 rows x 12 columns]"
            ]
          },
          "metadata": {
            "tags": []
          },
          "execution_count": 16
        }
      ]
    },
    {
      "cell_type": "code",
      "metadata": {
        "id": "9FOQkMEcsYxE",
        "colab": {
          "base_uri": "https://localhost:8080/",
          "height": 74
        },
        "outputId": "ff80e0f4-f42f-4197-b63f-d191c9fe1bc1"
      },
      "source": [
        "#we can use this function to get the count of each unique value instead of the cumbersome method used previously\n",
        "df['quality'].value_counts()"
      ],
      "execution_count": null,
      "outputs": [
        {
          "output_type": "execute_result",
          "data": {
            "text/plain": [
              "0    1382\n",
              "1     217\n",
              "Name: quality, dtype: int64"
            ]
          },
          "metadata": {
            "tags": []
          },
          "execution_count": 17
        }
      ]
    },
    {
      "cell_type": "code",
      "metadata": {
        "id": "FC5Hdx3EtL54",
        "colab": {
          "base_uri": "https://localhost:8080/",
          "height": 298
        },
        "outputId": "3a76dc2f-03ea-4c96-e798-ebdf3a9476e2"
      },
      "source": [
        "sns.countplot(df['quality'])#a nice bar graph. skewed though"
      ],
      "execution_count": null,
      "outputs": [
        {
          "output_type": "execute_result",
          "data": {
            "text/plain": [
              "<matplotlib.axes._subplots.AxesSubplot at 0x7f0f20afada0>"
            ]
          },
          "metadata": {
            "tags": []
          },
          "execution_count": 18
        },
        {
          "output_type": "display_data",
          "data": {
            "image/png": "[encoded data removed]",
            "text/plain": [
              "<Figure size 432x288 with 1 Axes>"
            ]
          },
          "metadata": {
            "tags": [],
            "needs_background": "light"
          }
        }
      ]
    },
    {
      "cell_type": "code",
      "metadata": {
        "id": "vtUNatUqtkaM"
      },
      "source": [
        "#splitting our data into features and lables\n",
        "X = df.iloc[:,:-1]\n",
        "Y = df.iloc[:,-1]"
      ],
      "execution_count": null,
      "outputs": []
    },
    {
      "cell_type": "code",
      "metadata": {
        "id": "YuO1mdYCwC_8"
      },
      "source": [
        "#and now we get our training and testing data\n",
        "x_train, x_test, y_train, y_test = train_test_split(X, Y, test_size = 0.2, random_state = 42)"
      ],
      "execution_count": null,
      "outputs": []
    },
    {
      "cell_type": "code",
      "metadata": {
        "id": "rq78bNRXxoAo",
        "colab": {
          "base_uri": "https://localhost:8080/",
          "height": 92
        },
        "outputId": "77bf5aa5-4258-4984-c93f-57e4a58b1f41"
      },
      "source": [
        "print(x_train.shape)\n",
        "print(x_test.shape)\n",
        "print(y_train.shape)\n",
        "print(y_test.shape)"
      ],
      "execution_count": null,
      "outputs": [
        {
          "output_type": "stream",
          "text": [
            "(1279, 11)\n",
            "(320, 11)\n",
            "(1279,)\n",
            "(320,)\n"
          ],
          "name": "stdout"
        }
      ]
    },
    {
      "cell_type": "code",
      "metadata": {
        "id": "-Um9FwPeyH-S"
      },
      "source": [
        "#now we scale/standardize our data\n",
        "sc = StandardScaler()\n",
        "x_train = sc.fit_transform(x_train)\n",
        "x_test = sc.fit_transform(x_test)\n",
        "#in case you're wondering why we're normalizing after splitting the data and not before check the links\n",
        "#https://datascience.stackexchange.com/questions/54908/data-normalization-before-or-after-train-test-split\n",
        "# https://machinelearningmastery.com/data-leakage-machine-learning/"
      ],
      "execution_count": null,
      "outputs": []
    },
    {
      "cell_type": "code",
      "metadata": {
        "id": "URz6HA85znaA",
        "colab": {
          "base_uri": "https://localhost:8080/",
          "height": 262
        },
        "outputId": "c76f82b6-6a06-4a2c-d9ba-22b953104a14"
      },
      "source": [
        "x_train"
      ],
      "execution_count": null,
      "outputs": [
        {
          "output_type": "execute_result",
          "data": {
            "text/plain": [
              "array([[ 0.21833164,  0.88971201,  0.19209222, ...,  1.09349989,\n",
              "         0.45822284,  1.12317723],\n",
              "       [-1.29016623, -1.78878251,  0.65275338, ..., -0.40043872,\n",
              "        -0.40119696,  1.40827174],\n",
              "       [ 1.49475291, -0.78434707,  1.01104539, ..., -0.07566946,\n",
              "         0.51551749, -0.58738978],\n",
              "       ...,\n",
              "       [-0.65195559,  0.49909822, -1.08752211, ...,  1.28836145,\n",
              "        -0.68767023, -0.87248428],\n",
              "       [-0.24582155, -1.84458448,  0.39683051, ...,  0.05423824,\n",
              "         0.80199076,  1.40827174],\n",
              "       [-1.46422367, -1.34236676, -0.06383064, ...,  0.50891521,\n",
              "        -0.68767023,  2.92877575]])"
            ]
          },
          "metadata": {
            "tags": []
          },
          "execution_count": 23
        }
      ]
    },
    {
      "cell_type": "markdown",
      "metadata": {
        "id": "uXALA_7DF6Do"
      },
      "source": [
        "## Random forests classifier"
      ]
    },
    {
      "cell_type": "code",
      "metadata": {
        "id": "tpbZyUnPF3Pg"
      },
      "source": [
        "rfc = RandomForestClassifier()\n",
        "\n",
        "rfc = rfc.fit(x_train,y_train)\n",
        "prdc = rfc.predict(x_test)"
      ],
      "execution_count": null,
      "outputs": []
    },
    {
      "cell_type": "code",
      "metadata": {
        "id": "lcs4SlDfGndY",
        "colab": {
          "base_uri": "https://localhost:8080/",
          "height": 225
        },
        "outputId": "c0911e39-6d3e-4c14-c894-92ab5ce8676e"
      },
      "source": [
        "print(classification_report(y_test,prdc))\n",
        "print(confusion_matrix(y_test,prdc))"
      ],
      "execution_count": null,
      "outputs": [
        {
          "output_type": "stream",
          "text": [
            "              precision    recall  f1-score   support\n",
            "\n",
            "           0       0.90      0.96      0.93       273\n",
            "           1       0.64      0.38      0.48        47\n",
            "\n",
            "    accuracy                           0.88       320\n",
            "   macro avg       0.77      0.67      0.71       320\n",
            "weighted avg       0.86      0.88      0.86       320\n",
            "\n",
            "[[263  10]\n",
            " [ 29  18]]\n"
          ],
          "name": "stdout"
        }
      ]
    },
    {
      "cell_type": "markdown",
      "metadata": {
        "id": "h6CgmIPaHAHX"
      },
      "source": [
        "## Support vector classifier"
      ]
    },
    {
      "cell_type": "code",
      "metadata": {
        "id": "Aaq983ozInR0"
      },
      "source": [
        "sv = svm.SVC()\n",
        "\n",
        "sv = sv.fit(x_train, y_train)\n",
        "prdc = sv.predict(x_test)"
      ],
      "execution_count": null,
      "outputs": []
    },
    {
      "cell_type": "code",
      "metadata": {
        "id": "MpJnqJX2J68Y",
        "colab": {
          "base_uri": "https://localhost:8080/",
          "height": 225
        },
        "outputId": "ef9f54b0-1ee6-4f0a-c834-b006d7e2cf92"
      },
      "source": [
        "print(classification_report(y_test, prdc))\n",
        "print(confusion_matrix(y_test, prdc))"
      ],
      "execution_count": null,
      "outputs": [
        {
          "output_type": "stream",
          "text": [
            "              precision    recall  f1-score   support\n",
            "\n",
            "           0       0.88      0.98      0.93       273\n",
            "           1       0.71      0.26      0.37        47\n",
            "\n",
            "    accuracy                           0.88       320\n",
            "   macro avg       0.80      0.62      0.65       320\n",
            "weighted avg       0.86      0.88      0.85       320\n",
            "\n",
            "[[268   5]\n",
            " [ 35  12]]\n"
          ],
          "name": "stdout"
        }
      ]
    },
    {
      "cell_type": "markdown",
      "metadata": {
        "id": "IR0DMPxmC-vw"
      },
      "source": [
        "## neural network"
      ]
    },
    {
      "cell_type": "code",
      "metadata": {
        "id": "fgqaLdl6KmAY"
      },
      "source": [
        "import tensorflow as tf"
      ],
      "execution_count": null,
      "outputs": []
    },
    {
      "cell_type": "code",
      "metadata": {
        "id": "jXmg8NiSKsj5"
      },
      "source": [
        "#we build our model\n",
        "model = tf.keras.models.Sequential()\n",
        "model.add(tf.keras.layers.Dense(128, activation = tf.nn.relu, input_shape=(1279, 11)))\n",
        "model.add(tf.keras.layers.Dense(128, activation = tf.nn.relu))\n",
        "model.add(tf.keras.layers.Dense(64, activation = tf.nn.relu))\n",
        "model.add(tf.keras.layers.Dense(32, activation = tf.nn.relu))\n",
        "model.add(tf.keras.layers.Dense(1, activation = tf.nn.sigmoid))"
      ],
      "execution_count": null,
      "outputs": []
    },
    {
      "cell_type": "code",
      "metadata": {
        "id": "ckukf78hRdTJ"
      },
      "source": [
        "model.compile(optimizer= 'adam',\n",
        "              loss = 'binary_crossentropy',\n",
        "              metrics = ['accuracy'])"
      ],
      "execution_count": null,
      "outputs": []
    },
    {
      "cell_type": "code",
      "metadata": {
        "id": "gpcvd_u1TV-Q",
        "colab": {
          "base_uri": "https://localhost:8080/",
          "height": 357
        },
        "outputId": "e03b1846-0d8f-40ca-9701-47ce310d9db6"
      },
      "source": [
        "model.summary()"
      ],
      "execution_count": null,
      "outputs": [
        {
          "output_type": "stream",
          "text": [
            "Model: \"sequential_13\"\n",
            "_________________________________________________________________\n",
            "Layer (type)                 Output Shape              Param #   \n",
            "=================================================================\n",
            "dense_51 (Dense)             (None, 1279, 128)         1536      \n",
            "_________________________________________________________________\n",
            "dense_52 (Dense)             (None, 1279, 128)         16512     \n",
            "_________________________________________________________________\n",
            "dense_53 (Dense)             (None, 1279, 64)          8256      \n",
            "_________________________________________________________________\n",
            "dense_54 (Dense)             (None, 1279, 32)          2080      \n",
            "_________________________________________________________________\n",
            "dense_55 (Dense)             (None, 1279, 1)           33        \n",
            "=================================================================\n",
            "Total params: 28,417\n",
            "Trainable params: 28,417\n",
            "Non-trainable params: 0\n",
            "_________________________________________________________________\n"
          ],
          "name": "stdout"
        }
      ]
    },
    {
      "cell_type": "code",
      "metadata": {
        "id": "_59tlpHCSC8t",
        "colab": {
          "base_uri": "https://localhost:8080/",
          "height": 848
        },
        "outputId": "b7ea30fb-0c6f-488a-f3cb-39c7d3b89e4b"
      },
      "source": [
        "model.fit(x_train, y_train, epochs = 20)"
      ],
      "execution_count": null,
      "outputs": [
        {
          "output_type": "stream",
          "text": [
            "Epoch 1/20\n",
            "WARNING:tensorflow:Model was constructed with shape (None, 1279, 11) for input Tensor(\"dense_51_input:0\", shape=(None, 1279, 11), dtype=float32), but it was called on an input with incompatible shape (None, 11).\n",
            "WARNING:tensorflow:Model was constructed with shape (None, 1279, 11) for input Tensor(\"dense_51_input:0\", shape=(None, 1279, 11), dtype=float32), but it was called on an input with incompatible shape (None, 11).\n",
            "40/40 [==============================] - 0s 2ms/step - loss: 0.4781 - accuracy: 0.8030\n",
            "Epoch 2/20\n",
            "40/40 [==============================] - 0s 2ms/step - loss: 0.3017 - accuracy: 0.8686\n",
            "Epoch 3/20\n",
            "40/40 [==============================] - 0s 2ms/step - loss: 0.2771 - accuracy: 0.8843\n",
            "Epoch 4/20\n",
            "40/40 [==============================] - 0s 2ms/step - loss: 0.2661 - accuracy: 0.8882\n",
            "Epoch 5/20\n",
            "40/40 [==============================] - 0s 2ms/step - loss: 0.2586 - accuracy: 0.8898\n",
            "Epoch 6/20\n",
            "40/40 [==============================] - 0s 2ms/step - loss: 0.2479 - accuracy: 0.8944\n",
            "Epoch 7/20\n",
            "40/40 [==============================] - 0s 2ms/step - loss: 0.2391 - accuracy: 0.9046\n",
            "Epoch 8/20\n",
            "40/40 [==============================] - 0s 2ms/step - loss: 0.2330 - accuracy: 0.9054\n",
            "Epoch 9/20\n",
            "40/40 [==============================] - 0s 2ms/step - loss: 0.2256 - accuracy: 0.9070\n",
            "Epoch 10/20\n",
            "40/40 [==============================] - 0s 2ms/step - loss: 0.2126 - accuracy: 0.9124\n",
            "Epoch 11/20\n",
            "40/40 [==============================] - 0s 2ms/step - loss: 0.2023 - accuracy: 0.9179\n",
            "Epoch 12/20\n",
            "40/40 [==============================] - 0s 2ms/step - loss: 0.1845 - accuracy: 0.9273\n",
            "Epoch 13/20\n",
            "40/40 [==============================] - 0s 2ms/step - loss: 0.1824 - accuracy: 0.9281\n",
            "Epoch 14/20\n",
            "40/40 [==============================] - 0s 2ms/step - loss: 0.1656 - accuracy: 0.9390\n",
            "Epoch 15/20\n",
            "40/40 [==============================] - 0s 2ms/step - loss: 0.1643 - accuracy: 0.9328\n",
            "Epoch 16/20\n",
            "40/40 [==============================] - 0s 2ms/step - loss: 0.1495 - accuracy: 0.9461\n",
            "Epoch 17/20\n",
            "40/40 [==============================] - 0s 2ms/step - loss: 0.1439 - accuracy: 0.9461\n",
            "Epoch 18/20\n",
            "40/40 [==============================] - 0s 2ms/step - loss: 0.1266 - accuracy: 0.9523\n",
            "Epoch 19/20\n",
            "40/40 [==============================] - 0s 2ms/step - loss: 0.1284 - accuracy: 0.9507\n",
            "Epoch 20/20\n",
            "40/40 [==============================] - 0s 2ms/step - loss: 0.1109 - accuracy: 0.9609\n"
          ],
          "name": "stdout"
        },
        {
          "output_type": "execute_result",
          "data": {
            "text/plain": [
              "<tensorflow.python.keras.callbacks.History at 0x7f0ed46ce550>"
            ]
          },
          "metadata": {
            "tags": []
          },
          "execution_count": 83
        }
      ]
    },
    {
      "cell_type": "code",
      "metadata": {
        "id": "gA4g1S3c-m8u",
        "colab": {
          "base_uri": "https://localhost:8080/",
          "height": 94
        },
        "outputId": "811ef89e-da4a-487e-e27a-eefa4a5819d9"
      },
      "source": [
        "model.evaluate(x_test,y_test)"
      ],
      "execution_count": null,
      "outputs": [
        {
          "output_type": "stream",
          "text": [
            "WARNING:tensorflow:Model was constructed with shape (None, 1279, 11) for input Tensor(\"dense_51_input:0\", shape=(None, 1279, 11), dtype=float32), but it was called on an input with incompatible shape (32, 11).\n",
            "10/10 [==============================] - 0s 1ms/step - loss: 0.2913 - accuracy: 0.9031\n"
          ],
          "name": "stdout"
        },
        {
          "output_type": "execute_result",
          "data": {
            "text/plain": [
              "[0.2913447320461273, 0.903124988079071]"
            ]
          },
          "metadata": {
            "tags": []
          },
          "execution_count": 84
        }
      ]
    },
    {
      "cell_type": "code",
      "metadata": {
        "id": "Yq6clJK0_5dW",
        "colab": {
          "base_uri": "https://localhost:8080/",
          "height": 112
        },
        "outputId": "2d6e6025-c233-4304-dbb2-32a8314d8ef0"
      },
      "source": [
        "#and now we save our model\n",
        "model.save('/content/drive/My Drive/Kaggle/red_wine_quality/red_wine_model.h')\n",
        "#you need to save your model once and after that you can use it directly on new data with the need to redo all the previous stuff"
      ],
      "execution_count": null,
      "outputs": [
        {
          "output_type": "stream",
          "text": [
            "WARNING:tensorflow:From /usr/local/lib/python3.6/dist-packages/tensorflow/python/ops/resource_variable_ops.py:1817: calling BaseResourceVariable.__init__ (from tensorflow.python.ops.resource_variable_ops) with constraint is deprecated and will be removed in a future version.\n",
            "Instructions for updating:\n",
            "If using Keras pass *_constraint arguments to layers.\n",
            "INFO:tensorflow:Assets written to: /content/drive/My Drive/Kaggle/red_wine_quality/red_wine_model.h/assets\n"
          ],
          "name": "stdout"
        }
      ]
    },
    {
      "cell_type": "code",
      "metadata": {
        "id": "1wncxECZBpXb"
      },
      "source": [
        "from tensorflow.keras.models import load_model\n",
        "\n",
        "mymodel = load_model('/content/drive/My Drive/Kaggle/red_wine_quality/red_wine_model.h')\n",
        "#we load the model we previously saved"
      ],
      "execution_count": null,
      "outputs": []
    },
    {
      "cell_type": "code",
      "metadata": {
        "id": "aKm6YKB3Couk"
      },
      "source": [
        "mymodel.evaluate(x_test,y_test)#yup that's our model right there ready to serve\n",
        "#and we use it to evaluate our test set just to check that it works"
      ],
      "execution_count": null,
      "outputs": []
    }
  ]
}